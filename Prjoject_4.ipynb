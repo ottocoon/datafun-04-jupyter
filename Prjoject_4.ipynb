{
 "cells": [
  {
   "cell_type": "code",
   "execution_count": 1,
   "id": "79edb664-d1f5-4c24-905c-ee5a40f6539d",
   "metadata": {},
   "outputs": [
    {
     "name": "stdout",
     "output_type": "stream",
     "text": [
      "hello world\n"
     ]
    }
   ],
   "source": [
    "print(\"hello world\")"
   ]
  },
  {
   "cell_type": "markdown",
   "id": "df9273fa-680f-4b89-b2ed-1a35640330de",
   "metadata": {},
   "source": [
    "## Project Euler Question 1: Find sum of all multiples of 3 and 5 less than 1000"
   ]
  },
  {
   "cell_type": "code",
   "execution_count": 1,
   "id": "b615c4d7-c249-418c-950c-fa96c8670d41",
   "metadata": {},
   "outputs": [],
   "source": [
    "import numpy as np"
   ]
  },
  {
   "cell_type": "code",
   "execution_count": 11,
   "id": "86cab767-35fa-4bcd-a255-113b28513b0b",
   "metadata": {},
   "outputs": [],
   "source": [
    "def factor_list(num:int,start:int,end:int)->np.array:\n",
    "    i = start\n",
    "    factors=np.empty(0)\n",
    "    for i in range (start,end):\n",
    "        if i%num == 0:\n",
    "            factors=np.append(factors,i)\n",
    "            i=i+1\n",
    "        else:\n",
    "            i=i+1\n",
    "    return factors\n"
   ]
  },
  {
   "cell_type": "markdown",
   "id": "f4c19327-5361-48a0-a338-0b58186d8d85",
   "metadata": {},
   "source": [
    "### Add test to verify functionality"
   ]
  },
  {
   "cell_type": "code",
   "execution_count": 12,
   "id": "62e6ed5c-2df9-4661-83a5-d08c69fccfe9",
   "metadata": {},
   "outputs": [
    {
     "data": {
      "text/plain": [
       "array([0., 2.])"
      ]
     },
     "execution_count": 12,
     "metadata": {},
     "output_type": "execute_result"
    }
   ],
   "source": [
    "factor_list(2,0,4)"
   ]
  },
  {
   "cell_type": "code",
   "execution_count": 13,
   "id": "9ff9d87d-d9c8-44b3-ad9c-52ebc49ffb8a",
   "metadata": {},
   "outputs": [],
   "source": [
    "threes=factor_list(3,1,1000)"
   ]
  },
  {
   "cell_type": "code",
   "execution_count": 14,
   "id": "a720a5f0-35e9-4d0e-924b-13fcf44645ae",
   "metadata": {},
   "outputs": [],
   "source": [
    "fives=factor_list(5,1,1000)"
   ]
  },
  {
   "cell_type": "code",
   "execution_count": 15,
   "id": "22f89ca9-bf3c-4e17-a794-41aad42f156b",
   "metadata": {},
   "outputs": [],
   "source": [
    "org = np.append(threes,fives)\n",
    "merged_list_with_no_duplicates=np.unique(org)"
   ]
  },
  {
   "cell_type": "code",
   "execution_count": 16,
   "id": "92539593-7146-46a7-9df0-3e84dd69e29a",
   "metadata": {},
   "outputs": [
    {
     "data": {
      "text/plain": [
       "np.float64(233168.0)"
      ]
     },
     "execution_count": 16,
     "metadata": {},
     "output_type": "execute_result"
    }
   ],
   "source": [
    "merged_list_with_no_duplicates.sum()"
   ]
  },
  {
   "cell_type": "markdown",
   "id": "a9c39d63-72ca-4b53-89be-93024370f7b4",
   "metadata": {},
   "source": [
    "This is the correct answer!"
   ]
  },
  {
   "cell_type": "code",
   "execution_count": null,
   "id": "1d5012ca-a3ba-43a4-ba4c-735e32c16c0b",
   "metadata": {},
   "outputs": [],
   "source": []
  }
 ],
 "metadata": {
  "kernelspec": {
   "display_name": "Python 3 (ipykernel)",
   "language": "python",
   "name": "python3"
  },
  "language_info": {
   "codemirror_mode": {
    "name": "ipython",
    "version": 3
   },
   "file_extension": ".py",
   "mimetype": "text/x-python",
   "name": "python",
   "nbconvert_exporter": "python",
   "pygments_lexer": "ipython3",
   "version": "3.12.5"
  }
 },
 "nbformat": 4,
 "nbformat_minor": 5
}
